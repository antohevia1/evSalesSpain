{
 "cells": [
  {
   "cell_type": "code",
   "execution_count": 1,
   "metadata": {},
   "outputs": [],
   "source": [
    "import pandas as pd\n",
    "import numpy as np\n",
    "import requests\n",
    "import os\n",
    "pd.set_option('display.max_rows', 1000)\n",
    "from bs4 import BeautifulSoup\n",
    "import plotly as plt\n",
    "%matplotlib inline\n",
    "pd.set_option('display.max_columns', 100)"
   ]
  },
  {
   "cell_type": "code",
   "execution_count": 2,
   "metadata": {},
   "outputs": [],
   "source": [
    "import chart_studio.plotly as py\n",
    "import plotly.graph_objects as go"
   ]
  },
  {
   "cell_type": "code",
   "execution_count": 3,
   "metadata": {},
   "outputs": [],
   "source": [
    "import chart_studio\n",
    "chart_studio.tools.set_config_file(plotly_domain=\"https://plotly.com\", plotly_api_domain=\"https://api.plotly.com\")"
   ]
  },
  {
   "cell_type": "markdown",
   "metadata": {},
   "source": [
    "## Analysis of Vehicles Sales in Spain 2018 & 2019"
   ]
  },
  {
   "cell_type": "markdown",
   "metadata": {},
   "source": [
    "### Extract Data"
   ]
  },
  {
   "cell_type": "code",
   "execution_count": 4,
   "metadata": {},
   "outputs": [],
   "source": [
    "url1 = 'http://www.aniacam.com/datos/'\n",
    "url2 = '/archivos/automoviles/DossierAutomoviles_'\n",
    "year = np.arange(2011, 2019,1)\n",
    "year = year.astype('str')\n",
    "month = ['Enero', 'Febrero', 'Marzo', 'Abril', 'Mayo', 'Junio', 'Julio', 'Agosto', 'Septiembre', 'Octubre', 'Noviembre', 'Diciembre']\n",
    "xls = '.xls'"
   ]
  },
  {
   "cell_type": "code",
   "execution_count": 5,
   "metadata": {},
   "outputs": [],
   "source": [
    "os.chdir('//Users//antoniosanchez//Documents//Data science//Projects//Car Sales in Spain//XLS')"
   ]
  },
  {
   "cell_type": "markdown",
   "metadata": {
    "collapsed": true
   },
   "source": [
    "for i in year:\n",
    "    for j in month:\n",
    "        url = url1+i+url2+j+i[2:]+xls\n",
    "        title = \"\"\n",
    "        try:\n",
    "            excel_file = requests.get(url)\n",
    "            title = excel_file.url.split('/')[-1:][0]\n",
    "            open(title, 'wb').write(excel_file.content)\n",
    "        except :\n",
    "            print('There was a problem extracting the data at:'+ j+ i)\n",
    "\n",
    "        \n",
    "        "
   ]
  },
  {
   "cell_type": "markdown",
   "metadata": {},
   "source": [
    "### Transform Data"
   ]
  },
  {
   "cell_type": "code",
   "execution_count": 6,
   "metadata": {},
   "outputs": [],
   "source": [
    "def transform_df(df):\n",
    "    month = df.iloc[2,1].split(' ')[1]\n",
    "    year = df.iloc[2,1].split(' ')[2]\n",
    "    #Actual columns\n",
    "    columns = df.iloc[6, 1:5].values\n",
    "\n",
    "    #Drop empty rows\n",
    "    df.drop(np.arange(0,7,1), inplace=True)\n",
    "\n",
    "    #Drop empty columns\n",
    "    df.drop(df.columns[0], axis=1, inplace=True)\n",
    "    df.drop(df.columns[4:], axis=1, inplace=True)\n",
    "\n",
    "    #Reset columns and index\n",
    "    df.columns = columns\n",
    "    df.reset_index(drop=True, inplace=True)\n",
    "    \n",
    "    df.rename(columns={'Mes': 'Total'}, inplace= True)\n",
    "    \n",
    "    #Set month & Year for the given table\n",
    "    df['Mes'] = month\n",
    "    df['Year'] = year\n",
    "    \n",
    "    return (df)"
   ]
  },
  {
   "cell_type": "code",
   "execution_count": 7,
   "metadata": {
    "scrolled": true
   },
   "outputs": [],
   "source": [
    "sales_list = os.listdir()\n",
    "aut_sales = pd.DataFrame(columns=['Marca', 'Segmento', 'Modelo',  'Mes', 'Year', 'Total'])\n",
    "for i in sales_list:\n",
    "    if(i.split('.')[1] != 'xls'):\n",
    "        continue   \n",
    "    raw_df = pd.read_excel(i, sheet_name=4)\n",
    "    df = transform_df(raw_df)\n",
    "    aut_sales = pd.concat([aut_sales,df.dropna()], sort=False)\n",
    "    del raw_df, df\n",
    "    \n",
    "aut_sales.rename(columns={'Marca': 'Brand', 'Segmento':'Segment', 'Modelo': 'Model',  'Mes':'Month'}, inplace=True)    "
   ]
  },
  {
   "cell_type": "markdown",
   "metadata": {},
   "source": [
    "Ensure that all electric vehicles are classified under **EV** segment. To ensure so a list with the most common EV in the market has been used."
   ]
  },
  {
   "cell_type": "code",
   "execution_count": 8,
   "metadata": {},
   "outputs": [],
   "source": [
    "EV = ['I-PACE', 'ZOE', 'KANGOO', 'E-MEHARI', 'C-ZERO', 'IONIQ', 'MONTERO iO', 'iMIEV', 'iOn', 'LEAF', 'MODEL X', 'MODEL S', 'i8', 'i3', 'ROADSTER']"
   ]
  },
  {
   "cell_type": "code",
   "execution_count": 9,
   "metadata": {},
   "outputs": [],
   "source": [
    "aut_sales.loc[(aut_sales.Model.isin(EV))|(aut_sales.Segment=='Eléctricos'), 'Segment'] = 'EV'"
   ]
  },
  {
   "cell_type": "markdown",
   "metadata": {},
   "source": [
    "Create a dataframe only for EV"
   ]
  },
  {
   "cell_type": "code",
   "execution_count": 10,
   "metadata": {},
   "outputs": [
    {
     "name": "stderr",
     "output_type": "stream",
     "text": [
      "/opt/anaconda3/lib/python3.7/site-packages/pandas/core/generic.py:5303: SettingWithCopyWarning: \n",
      "A value is trying to be set on a copy of a slice from a DataFrame.\n",
      "Try using .loc[row_indexer,col_indexer] = value instead\n",
      "\n",
      "See the caveats in the documentation: https://pandas.pydata.org/pandas-docs/stable/user_guide/indexing.html#returning-a-view-versus-a-copy\n",
      "  self[name] = value\n"
     ]
    }
   ],
   "source": [
    "ev =aut_sales[aut_sales.Segment=='EV']\n",
    "ev.Year = ev.Year.astype(int)\n",
    "ev.Total = ev.Total.astype(int)"
   ]
  },
  {
   "cell_type": "markdown",
   "metadata": {},
   "source": [
    "### Analysis"
   ]
  },
  {
   "cell_type": "code",
   "execution_count": 11,
   "metadata": {},
   "outputs": [
    {
     "data": {
      "text/html": [
       "\n",
       "        <iframe\n",
       "            width=\"100%\"\n",
       "            height=\"525px\"\n",
       "            src=\"https://plotly.com/~antohevia1/4.embed\"\n",
       "            frameborder=\"0\"\n",
       "            allowfullscreen\n",
       "        ></iframe>\n",
       "        "
      ],
      "text/plain": [
       "<IPython.lib.display.IFrame at 0x116ba51d0>"
      ]
     },
     "execution_count": 11,
     "metadata": {},
     "output_type": "execute_result"
    }
   ],
   "source": [
    "brands = ev.Brand.unique()\n",
    "grp_brd = ev.groupby(['Brand', 'Year']).Total.sum()\n",
    "data = list()\n",
    "for i in brands:\n",
    "    brnd = dict()\n",
    "    amts = list()\n",
    "    years = np.arange(2011, 2019,1)\n",
    "    for j in years:\n",
    "        if(j not in grp_brd[i].index):\n",
    "            amts.append(0)\n",
    "        else:\n",
    "            amts.append(grp_brd[i][j])\n",
    "    brnd['x'] = years\n",
    "    brnd['y'] = amts\n",
    "    brnd['name'] = i\n",
    "    brnd['type'] = 'bar'\n",
    "    data.append(brnd)\n",
    "\n",
    "\n",
    "layout = {\n",
    "  'xaxis': {'title': 'Year'},\n",
    "  'yaxis': {'title': 'Number'},\n",
    "  'barmode': 'relative',\n",
    "  'title': 'EV Sales in Spain'\n",
    "};\n",
    "py.iplot({'data': data, 'layout': layout}, filename='barmode-relative')"
   ]
  },
  {
   "cell_type": "markdown",
   "metadata": {
    "collapsed": true
   },
   "source": [
    "#### Conclusions"
   ]
  },
  {
   "cell_type": "markdown",
   "metadata": {},
   "source": [
    "IONIC 100% HIBRIDO ENTRA EN ESPANA EN ABRIL 2018, HACER AJUSTES CORRESPONDIENTES EN LA GRAFICA"
   ]
  },
  {
   "cell_type": "code",
   "execution_count": null,
   "metadata": {},
   "outputs": [],
   "source": []
  }
 ],
 "metadata": {
  "kernelspec": {
   "display_name": "Python 3",
   "language": "python",
   "name": "python3"
  },
  "language_info": {
   "codemirror_mode": {
    "name": "ipython",
    "version": 3
   },
   "file_extension": ".py",
   "mimetype": "text/x-python",
   "name": "python",
   "nbconvert_exporter": "python",
   "pygments_lexer": "ipython3",
   "version": "3.7.6"
  }
 },
 "nbformat": 4,
 "nbformat_minor": 2
}
